{
 "cells": [
  {
   "cell_type": "code",
   "execution_count": 3,
   "id": "0b620a92-a167-42db-9159-2a327acc8996",
   "metadata": {},
   "outputs": [
    {
     "name": "stdout",
     "output_type": "stream",
     "text": [
      "   CustomerID     Name   Age         City\n",
      "0           1    Alice  25.0     New York\n",
      "1           2      Bob  30.0  Los Angeles\n",
      "2           3  Charlie  35.0          NaN\n",
      "3           4    David   NaN      Chicago\n",
      "4           5      Eve  45.0      Houston\n",
      "   OrderID  CustomerID  Amount   OrderDate\n",
      "0      101         1.0  250.50  2024-12-20\n",
      "1      102         2.0  120.00  2024-12-21\n",
      "2      103         3.0  320.00  2024-12-22\n",
      "3      104         4.0     NaN  2024-12-23\n",
      "4      105         NaN  150.75  2024-12-24\n",
      "   ProductID ProductName     Category   Price\n",
      "0        201      Laptop  Electronics  1200.0\n",
      "1        202  Smartphone  Electronics   800.0\n",
      "2        203      Tablet  Electronics   400.0\n",
      "3        204     Monitor  Accessories   200.0\n",
      "4        205    Keyboard  Accessories     NaN\n",
      "   ReviewID  ProductID  CustomerID  Rating\n",
      "0       301      201.0           1     5.0\n",
      "1       302      202.0           3     4.0\n",
      "2       303      203.0           2     3.0\n",
      "3       304      204.0           5     NaN\n",
      "4       305        NaN           4     5.0\n"
     ]
    }
   ],
   "source": [
    "import pandas as pd\n",
    "import numpy as np\n",
    "df1=pd.read_csv(\"customers.csv\")\n",
    "df2=pd.read_csv(\"orders.csv\")\n",
    "df3=pd.read_csv(\"products.csv\")\n",
    "df4=pd.read_csv(\"reviews.csv\")\n",
    "print(df1)\n",
    "print(df2)\n",
    "print(df3)\n",
    "print(df4)"
   ]
  },
  {
   "cell_type": "code",
   "execution_count": 23,
   "id": "7a6eafb5-e294-4b31-a41a-8075eda35912",
   "metadata": {},
   "outputs": [
    {
     "name": "stdout",
     "output_type": "stream",
     "text": [
      "'ProductID' column missing in merged_df. Skipping merge with df3.\n",
      "   CustomerID     Name    Age         City  OrderID    Amount  OrderDate  \\\n",
      "0           1    Alice  25.00     New York    101.0  250.5000 2024-12-20   \n",
      "1           2      Bob  30.00  Los Angeles    102.0  120.0000 2024-12-21   \n",
      "2           3  Charlie  35.00      Unknown    103.0  320.0000 2024-12-22   \n",
      "3           4    David  33.75      Chicago    104.0  210.3125 2024-12-23   \n",
      "4           5      Eve  45.00      Houston      NaN       NaN        NaT   \n",
      "\n",
      "   ReviewID  ProductID  Rating  \n",
      "0       301      201.0    5.00  \n",
      "1       303      203.0    3.00  \n",
      "2       302      202.0    4.00  \n",
      "3       305      201.0    5.00  \n",
      "4       304      204.0    4.25  \n"
     ]
    }
   ],
   "source": [
    "df1['Age'] = df1['Age'].fillna(df1['Age'].mean())\n",
    "df1['City'] = df1['City'].fillna('Unknown')\n",
    "df2['Amount'] = df2['Amount'].fillna(df2['Amount'].mean())\n",
    "df3['Price'] = df3['Price'].fillna(df3['Price'].mean())\n",
    "df4['Rating'] = df4['Rating'].fillna(df4['Rating'].mean())\n",
    "df4['ProductID'] = df4['ProductID'].fillna(df4['ProductID'].mode()[0])\n",
    "\n",
    "df2['OrderDate'] = pd.to_datetime(df2['OrderDate'], format='%Y-%m-%d')\n",
    "\n",
    "df1 = df1.drop_duplicates()\n",
    "df2 = df2.drop_duplicates()\n",
    "df3 = df3.drop_duplicates()\n",
    "df4 = df4.drop_duplicates()\n",
    "\n",
    "if 'CustomerID' in df1.columns and 'CustomerID' in df2.columns and 'CustomerID' in df4.columns:\n",
    "    merged_df = pd.merge(df1, df2, on='CustomerID', how='left')\n",
    "    if 'ProductID' in df3.columns:\n",
    "        if 'ProductID' in merged_df.columns:\n",
    "            merged_df = pd.merge(merged_df, df3, on='ProductID', how='left')\n",
    "        else:\n",
    "            print(\"'ProductID' column missing in merged_df. Skipping merge with df3.\")\n",
    "    else:\n",
    "        print(\"'ProductID' column missing in df3. Skipping merge with df3.\")\n",
    "    merged_df = pd.merge(merged_df, df4, on='CustomerID', how='left')\n",
    "    print(merged_df)\n",
    "else:\n",
    "    print(\"Error: 'CustomerID' column missing in one or more DataFrames.\")\n"
   ]
  },
  {
   "cell_type": "code",
   "execution_count": null,
   "id": "2501de09-b3d8-409b-82a3-46954ac9a794",
   "metadata": {},
   "outputs": [],
   "source": []
  }
 ],
 "metadata": {
  "kernelspec": {
   "display_name": "Python 3 (ipykernel)",
   "language": "python",
   "name": "python3"
  },
  "language_info": {
   "codemirror_mode": {
    "name": "ipython",
    "version": 3
   },
   "file_extension": ".py",
   "mimetype": "text/x-python",
   "name": "python",
   "nbconvert_exporter": "python",
   "pygments_lexer": "ipython3",
   "version": "3.12.7"
  }
 },
 "nbformat": 4,
 "nbformat_minor": 5
}
